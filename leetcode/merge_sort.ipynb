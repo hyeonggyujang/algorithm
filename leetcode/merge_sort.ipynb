{
 "cells": [
  {
   "cell_type": "markdown",
   "metadata": {},
   "source": [
    "# Merge Sort Implementation\n",
    "\n",
    "In this script, merge sort algorithm is implemented. The algorithm for merge sort uses recursive method. To implement merge sort recursively, the below steps need to be taken:\n",
    "1. Recursively divide the input array into halves until there is only one element is left.\n",
    "2. Sort the subarray.\n",
    "3. Merge the sorted sub-arrays and re-sort the merged array.\n",
    "\n",
    "The time complexity of this implementation is **O(lg(n))**."
   ]
  },
  {
   "cell_type": "code",
   "execution_count": 1,
   "metadata": {},
   "outputs": [],
   "source": [
    "# Test input\n",
    "input = [5, 3, 2, 1, 6, 8, 7, 4]"
   ]
  },
  {
   "cell_type": "code",
   "execution_count": 17,
   "metadata": {},
   "outputs": [],
   "source": [
    "def merge_sort(array):\n",
    "    if len(array) <= 1:\n",
    "        return array\n",
    "    mid_point = len(array) // 2\n",
    "    left_array = merge_sort(array[:mid_point])\n",
    "    right_array = merge_sort(array[mid_point:])\n",
    "    pt1 = pt2 = 0\n",
    "    sorted_array = []\n",
    "    while pt1 < len(left_array) and pt2 < len(right_array):\n",
    "        if left_array[pt1] <= right_array[pt2]:\n",
    "            sorted_array.append(left_array[pt1])\n",
    "            pt1 += 1\n",
    "        else:\n",
    "            sorted_array.append(right_array[pt2])\n",
    "            pt2 += 1\n",
    "    if pt1 > pt2:\n",
    "        sorted_array.extend(right_array[pt2:])\n",
    "    else:\n",
    "        sorted_array.extend(left_array[pt1:])\n",
    "    return sorted_array\n",
    "        "
   ]
  },
  {
   "cell_type": "code",
   "execution_count": 18,
   "metadata": {},
   "outputs": [
    {
     "name": "stdout",
     "output_type": "stream",
     "text": [
      "[1, 2, 3, 4, 5, 6, 7, 8]\n"
     ]
    }
   ],
   "source": [
    "# Given the above input, the expected output is [1,2,3,4,5,6,7,8]\n",
    "result = merge_sort(input)\n",
    "print(result)"
   ]
  }
 ],
 "metadata": {
  "kernelspec": {
   "display_name": "Python 3",
   "language": "python",
   "name": "python3"
  },
  "language_info": {
   "codemirror_mode": {
    "name": "ipython",
    "version": 3
   },
   "file_extension": ".py",
   "mimetype": "text/x-python",
   "name": "python",
   "nbconvert_exporter": "python",
   "pygments_lexer": "ipython3",
   "version": "3.10.11"
  }
 },
 "nbformat": 4,
 "nbformat_minor": 2
}
